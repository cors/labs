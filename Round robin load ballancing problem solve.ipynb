{
 "cells": [
  {
   "cell_type": "code",
   "execution_count": 24,
   "metadata": {
    "collapsed": false
   },
   "outputs": [
    {
     "name": "stdout",
     "output_type": "stream",
     "text": [
      "[master 90ae785] continuous commit\n",
      " 1 file changed, 47 insertions(+), 3 deletions(-)\n"
     ]
    },
    {
     "name": "stderr",
     "output_type": "stream",
     "text": [
      "warning: LF will be replaced by CRLF in Round robin load ballancing problem solve.ipynb.\n",
      "The file will have its original line endings in your working directory.\n",
      "warning: LF will be replaced by CRLF in Round robin load ballancing problem solve.ipynb.\n",
      "The file will have its original line endings in your working directory.\n",
      "warning: LF will be replaced by CRLF in Round robin load ballancing problem solve.ipynb.\n",
      "The file will have its original line endings in your working directory.\n",
      "warning: push.default is unset; its implicit value is changing in\n",
      "Git 2.0 from 'matching' to 'simple'. To squelch this message\n",
      "and maintain the current behavior after the default changes, use:\n",
      "\n",
      "  git config --global push.default matching\n",
      "\n",
      "To squelch this message and adopt the new behavior now, use:\n",
      "\n",
      "  git config --global push.default simple\n",
      "\n",
      "When push.default is set to 'matching', git will push local branches\n",
      "to the remote branches that already exist with the same name.\n",
      "\n",
      "In Git 2.0, Git will default to the more conservative 'simple'\n",
      "behavior, which only pushes the current branch to the corresponding\n",
      "remote branch that 'git pull' uses to update the current branch.\n",
      "\n",
      "See 'git help config' and search for 'push.default' for further information.\n",
      "(the 'simple' mode was introduced in Git 1.7.11. Use the similar mode\n",
      "'current' instead of 'simple' if you sometimes use older versions of Git)\n",
      "\n",
      "To https://github.com/cors/labs.git\n",
      "   5b1179f..90ae785  master -> master\n"
     ]
    }
   ],
   "source": [
    "!git commit -a -m \"continuous commit\"\n",
    "!git push origin"
   ]
  },
  {
   "cell_type": "code",
   "execution_count": 3,
   "metadata": {
    "collapsed": false
   },
   "outputs": [
    {
     "name": "stdout",
     "output_type": "stream",
     "text": [
      "Populating the interactive namespace from numpy and matplotlib\n"
     ]
    },
    {
     "name": "stderr",
     "output_type": "stream",
     "text": [
      "C:\\Application\\Anaconda\\lib\\site-packages\\matplotlib\\__init__.py:872: UserWarning: axes.color_cycle is deprecated and replaced with axes.prop_cycle; please use the latter.\n",
      "  warnings.warn(self.msg_depr % (key, alt_key))\n"
     ]
    }
   ],
   "source": [
    "%pylab inline\n",
    "import os\n",
    "import seaborn"
   ]
  },
  {
   "cell_type": "code",
   "execution_count": 4,
   "metadata": {
    "collapsed": false
   },
   "outputs": [],
   "source": [
    "import numpy as np\n",
    "from scipy.stats import multivariate_normal\n",
    "import scipy.stats\n",
    "import random as rd\n",
    "import itertools"
   ]
  },
  {
   "cell_type": "code",
   "execution_count": 5,
   "metadata": {
    "collapsed": true
   },
   "outputs": [],
   "source": [
    "def destination_len(dest):\n",
    "    return [sum(i) for i in dest]"
   ]
  },
  {
   "cell_type": "code",
   "execution_count": 6,
   "metadata": {
    "collapsed": true
   },
   "outputs": [],
   "source": [
    "# вариант 1 генераци случайных чисел \n",
    "v=0"
   ]
  },
  {
   "cell_type": "code",
   "execution_count": 7,
   "metadata": {
    "collapsed": false
   },
   "outputs": [],
   "source": [
    "if v==0:\n",
    "    distribution = scipy.stats.norm(loc=1000,scale=50)\n",
    "    sample = distribution.rvs(size=10000)\n",
    "    sample_list=sample.tolist()\n",
    "    sources=map(int,sample_list)\n",
    "else:\n",
    "    # вариант 2 генераци случайных чисел \n",
    "    # создадим тестовый массив входных данных с необходимым распределением\n",
    "    sources=[]\n",
    "    source1=[rd.randint(10000,10100) for i in range(100) ]\n",
    "    source2=[rd.randint(1,100) for i in range(100)]\n",
    "    source3=[rd.randint(100,300) for i in range(100)]\n",
    "    source4=[rd.randint(300,500) for i in range(100)]\n",
    "    source5=[rd.randint(500,700) for i in range(300)]\n",
    "    source6=[rd.randint(700,1000) for i in range(200)]\n",
    "    source7=[rd.randint(1000,5000) for i in range(100)]\n",
    "    sources=source1+source2+source3+source4+source5+source6+source7"
   ]
  },
  {
   "cell_type": "code",
   "execution_count": 8,
   "metadata": {
    "collapsed": false
   },
   "outputs": [],
   "source": [
    "if v==0:\n",
    "    sources.sort()\n",
    "    \n",
    "else:\n",
    "    rd.shuffle(sources)"
   ]
  },
  {
   "cell_type": "code",
   "execution_count": 9,
   "metadata": {
    "collapsed": false
   },
   "outputs": [
    {
     "data": {
      "image/png": "[encoded data removed]",
      "text/plain": [
       "<matplotlib.figure.Figure at 0x34be240>"
      ]
     },
     "metadata": {},
     "output_type": "display_data"
    }
   ],
   "source": [
    "plt.figure(figsize=(15,3))\n",
    "plt.plot(sources)\n",
    "plt.show()"
   ]
  },
  {
   "cell_type": "code",
   "execution_count": 10,
   "metadata": {
    "collapsed": false
   },
   "outputs": [
    {
     "data": {
      "text/plain": [
       "(array([    4.,    34.,   220.,   848.,  1996.,  2692.,  2462.,  1264.,\n",
       "          400.,    80.]),\n",
       " array([  795.,   831.,   867.,   903.,   939.,   975.,  1011.,  1047.,\n",
       "         1083.,  1119.,  1155.]),\n",
       " <a list of 10 Patch objects>)"
      ]
     },
     "execution_count": 10,
     "metadata": {},
     "output_type": "execute_result"
    },
    {
     "data": {
      "image/png": "[encoded data removed]",
      "text/plain": [
       "<matplotlib.figure.Figure at 0x1b4cec18>"
      ]
     },
     "metadata": {},
     "output_type": "display_data"
    }
   ],
   "source": [
    "plt.figure(figsize=(15,3))\n",
    "plt.hist(sources)"
   ]
  },
  {
   "cell_type": "code",
   "execution_count": 11,
   "metadata": {
    "collapsed": false
   },
   "outputs": [
    {
     "data": {
      "text/plain": [
       "10000"
      ]
     },
     "execution_count": 11,
     "metadata": {},
     "output_type": "execute_result"
    }
   ],
   "source": [
    "len(sources)"
   ]
  },
  {
   "cell_type": "code",
   "execution_count": 12,
   "metadata": {
    "collapsed": true
   },
   "outputs": [],
   "source": [
    "# представим серверы-приемники в виде массива\n",
    "destination=[[0] for x in range(10)] \n"
   ]
  },
  {
   "cell_type": "code",
   "execution_count": 13,
   "metadata": {
    "collapsed": false
   },
   "outputs": [],
   "source": [
    "def method1():\n",
    "    treshold = 10000\n",
    "    for i in range(100):\n",
    "        a = 0\n",
    "        while a < 10:\n",
    "            current_in = sources.pop()\n",
    "        #   размещаем файл на одном из серверов\n",
    "            total_l = sum(destination[a]) \n",
    "            difference = treshold - (current_in + total_l)\n",
    "            if difference > 0:\n",
    "                destination[a].append(current_in)\n",
    "            a = a + 1"
   ]
  },
  {
   "cell_type": "code",
   "execution_count": 14,
   "metadata": {
    "collapsed": true
   },
   "outputs": [],
   "source": [
    "def method2():\n",
    "    for i in range(1000):\n",
    "        a = 0\n",
    "        while a < 10:\n",
    "            current_in = sources.pop()\n",
    "            k=randint(10)\n",
    "            destination[k].append(current_in)\n",
    "            a = a + 1\n"
   ]
  },
  {
   "cell_type": "code",
   "execution_count": 15,
   "metadata": {
    "collapsed": false
   },
   "outputs": [],
   "source": [
    "# распределить (to redistribute)\n",
    "method2()"
   ]
  },
  {
   "cell_type": "code",
   "execution_count": 16,
   "metadata": {
    "collapsed": false
   },
   "outputs": [
    {
     "name": "stdout",
     "output_type": "stream",
     "text": [
      "[8, 0, 0, 9, 8, 7, 4, 8, 4, 5, 0, 0, 1, 6, 2, 7, 2, 0, 2, 9, 2, 2, 4, 6, 6, 7, 4, 2, 4, 7, 5, 5, 3, 0, 3, 8, 8, 8, 9, 5, 9, 6, 5, 6, 0, 7, 0, 2, 9, 8, 1, 7, 0, 7, 8, 3, 8, 7, 9, 9, 2, 5, 0, 4, 9, 5, 6, 3, 2, 7, 1, 6, 2, 0, 7, 0, 3, 5, 3, 8, 5, 5, 4, 9, 5, 5, 7, 2, 9, 4, 1, 3, 8, 9, 3, 9, 0, 3, 1, 5]\n"
     ]
    }
   ],
   "source": [
    "print [randint(10) for i in range(100)]"
   ]
  },
  {
   "cell_type": "code",
   "execution_count": null,
   "metadata": {
    "collapsed": false
   },
   "outputs": [],
   "source": [
    "for i in destination:\n",
    "    print i,sum(i)\n",
    "    print(\"----------------------\")"
   ]
  },
  {
   "cell_type": "code",
   "execution_count": 18,
   "metadata": {
    "collapsed": false
   },
   "outputs": [],
   "source": [
    "# for i in destination:print i"
   ]
  },
  {
   "cell_type": "code",
   "execution_count": 19,
   "metadata": {
    "collapsed": false
   },
   "outputs": [],
   "source": [
    "dist_len=destination_len(destination)"
   ]
  },
  {
   "cell_type": "code",
   "execution_count": 20,
   "metadata": {
    "collapsed": false
   },
   "outputs": [
    {
     "name": "stdout",
     "output_type": "stream",
     "text": [
      "[1002193, 1038131, 1001958, 959607, 976389, 1029623, 1027035, 990055, 986276, 988421]\n"
     ]
    }
   ],
   "source": [
    "print dist_len"
   ]
  },
  {
   "cell_type": "code",
   "execution_count": 21,
   "metadata": {
    "collapsed": false
   },
   "outputs": [
    {
     "data": {
      "text/plain": [
       "0"
      ]
     },
     "execution_count": 21,
     "metadata": {},
     "output_type": "execute_result"
    }
   ],
   "source": [
    "len(sources)"
   ]
  },
  {
   "cell_type": "code",
   "execution_count": 37,
   "metadata": {
    "collapsed": false
   },
   "outputs": [
    {
     "data": {
      "text/plain": [
       "<matplotlib.collections.LineCollection at 0x209b79e8>"
      ]
     },
     "execution_count": 37,
     "metadata": {},
     "output_type": "execute_result"
    },
    {
     "data": {
      "image/png": "[encoded data removed]",
      "text/plain": [
       "<matplotlib.figure.Figure at 0x20742390>"
      ]
     },
     "metadata": {},
     "output_type": "display_data"
    }
   ],
   "source": [
    "plt.vlines(range(10),[0],dist_len)"
   ]
  },
  {
   "cell_type": "code",
   "execution_count": null,
   "metadata": {
    "collapsed": false
   },
   "outputs": [],
   "source": []
  }
 ],
 "metadata": {
  "kernelspec": {
   "display_name": "Python 2",
   "language": "python",
   "name": "python2"
  },
  "language_info": {
   "codemirror_mode": {
    "name": "ipython",
    "version": 2
   },
   "file_extension": ".py",
   "mimetype": "text/x-python",
   "name": "python",
   "nbconvert_exporter": "python",
   "pygments_lexer": "ipython2",
   "version": "2.7.11"
  }
 },
 "nbformat": 4,
 "nbformat_minor": 0
}
