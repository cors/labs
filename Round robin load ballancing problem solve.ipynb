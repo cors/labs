{
 "cells": [
  {
   "cell_type": "markdown",
   "metadata": {},
   "source": [
    "##  Задание nVIDIA\n",
    "\n",
    "Дано:\n",
    "- 10 серверов-приемников, где на каждом одинаковое количество вычислительных мощностей и диск неограниченного размера\n",
    "- 10000 серверов источников файлов логов разных размеров\n",
    "- файлы неделимы (это gz архивы). Можеть быть, что: один файл имеет размер 1 тэрабайт и 1000 файлов - по 500 килобайт\n",
    "\n",
    "Найти:\n",
    "- алгоритм, который распределит файлы по 10 серверам так, что бы запущенная на всех одновременно обработка данных, по возможности одновременно и закончилась."
   ]
  },
  {
   "cell_type": "code",
   "execution_count": 1,
   "metadata": {
    "collapsed": false
   },
   "outputs": [
    {
     "name": "stdout",
     "output_type": "stream",
     "text": [
      "Populating the interactive namespace from numpy and matplotlib\n"
     ]
    },
    {
     "name": "stderr",
     "output_type": "stream",
     "text": [
      "C:\\Application\\Anaconda\\lib\\site-packages\\matplotlib\\__init__.py:872: UserWarning: axes.color_cycle is deprecated and replaced with axes.prop_cycle; please use the latter.\n",
      "  warnings.warn(self.msg_depr % (key, alt_key))\n"
     ]
    }
   ],
   "source": [
    "%pylab inline\n",
    "import os\n",
    "import seaborn"
   ]
  },
  {
   "cell_type": "code",
   "execution_count": 2,
   "metadata": {
    "collapsed": false
   },
   "outputs": [],
   "source": [
    "import numpy as np\n",
    "from scipy.stats import multivariate_normal\n",
    "import scipy.stats\n",
    "import random as rd\n",
    "import itertools"
   ]
  },
  {
   "cell_type": "code",
   "execution_count": 3,
   "metadata": {
    "collapsed": true
   },
   "outputs": [],
   "source": [
    "def destination_len(dest):\n",
    "    return [sum(i) for i in dest]"
   ]
  },
  {
   "cell_type": "code",
   "execution_count": 4,
   "metadata": {
    "collapsed": true
   },
   "outputs": [],
   "source": [
    "# вариант 1 генераци случайных чисел \n",
    "v=0"
   ]
  },
  {
   "cell_type": "code",
   "execution_count": 5,
   "metadata": {
    "collapsed": false
   },
   "outputs": [],
   "source": [
    "if v==0:\n",
    "    distribution = scipy.stats.norm(loc=1000,scale=50)\n",
    "    sample = distribution.rvs(size=10000)\n",
    "    sample_list=sample.tolist()\n",
    "    sources=map(int,sample_list)\n",
    "else:\n",
    "    # вариант 2 генераци случайных чисел \n",
    "    # создадим тестовый массив входных данных с необходимым распределением\n",
    "    sources=[]\n",
    "    source1=[rd.randint(10000,10100) for i in range(100) ]\n",
    "    source2=[rd.randint(1,100) for i in range(100)]\n",
    "    source3=[rd.randint(100,300) for i in range(100)]\n",
    "    source4=[rd.randint(300,500) for i in range(100)]\n",
    "    source5=[rd.randint(500,700) for i in range(300)]\n",
    "    source6=[rd.randint(700,1000) for i in range(200)]\n",
    "    source7=[rd.randint(1000,5000) for i in range(100)]\n",
    "    sources=source1+source2+source3+source4+source5+source6+source7"
   ]
  },
  {
   "cell_type": "code",
   "execution_count": 6,
   "metadata": {
    "collapsed": false
   },
   "outputs": [],
   "source": [
    "if v==0:\n",
    "    sources.sort()\n",
    "    \n",
    "else:\n",
    "    rd.shuffle(sources)"
   ]
  },
  {
   "cell_type": "code",
   "execution_count": 7,
   "metadata": {
    "collapsed": false
   },
   "outputs": [
    {
     "data": {
      "image/png": "[encoded data removed]",
      "text/plain": [
       "<matplotlib.figure.Figure at 0x1b441d30>"
      ]
     },
     "metadata": {},
     "output_type": "display_data"
    }
   ],
   "source": [
    "plt.figure(figsize=(15,3))\n",
    "plt.plot(sources)\n",
    "plt.show()"
   ]
  },
  {
   "cell_type": "code",
   "execution_count": 8,
   "metadata": {
    "collapsed": false
   },
   "outputs": [
    {
     "data": {
      "text/plain": [
       "(array([   10.,   152.,   630.,  1812.,  2754.,  2676.,  1432.,   435.,\n",
       "           82.,    17.]),\n",
       " array([  815. ,   852.8,   890.6,   928.4,   966.2,  1004. ,  1041.8,\n",
       "         1079.6,  1117.4,  1155.2,  1193. ]),\n",
       " <a list of 10 Patch objects>)"
      ]
     },
     "execution_count": 8,
     "metadata": {},
     "output_type": "execute_result"
    },
    {
     "data": {
      "image/png": "[encoded data removed]",
      "text/plain": [
       "<matplotlib.figure.Figure at 0x1b77dd30>"
      ]
     },
     "metadata": {},
     "output_type": "display_data"
    }
   ],
   "source": [
    "plt.figure(figsize=(15,3))\n",
    "plt.hist(sources)"
   ]
  },
  {
   "cell_type": "code",
   "execution_count": 9,
   "metadata": {
    "collapsed": false
   },
   "outputs": [
    {
     "data": {
      "text/plain": [
       "10000"
      ]
     },
     "execution_count": 9,
     "metadata": {},
     "output_type": "execute_result"
    }
   ],
   "source": [
    "len(sources)"
   ]
  },
  {
   "cell_type": "code",
   "execution_count": 10,
   "metadata": {
    "collapsed": true
   },
   "outputs": [],
   "source": [
    "# представим серверы-приемники в виде массива\n",
    "destination=[[0] for x in range(10)] \n"
   ]
  },
  {
   "cell_type": "code",
   "execution_count": 11,
   "metadata": {
    "collapsed": false
   },
   "outputs": [],
   "source": [
    "def method1():\n",
    "    treshold = 10000\n",
    "    for i in range(100):\n",
    "        a = 0\n",
    "        while a < 10:\n",
    "            current_in = sources.pop()\n",
    "        #   размещаем файл на одном из серверов\n",
    "            total_l = sum(destination[a]) \n",
    "            difference = treshold - (current_in + total_l)\n",
    "            if difference > 0:\n",
    "                destination[a].append(current_in)\n",
    "            a = a + 1"
   ]
  },
  {
   "cell_type": "code",
   "execution_count": 12,
   "metadata": {
    "collapsed": true
   },
   "outputs": [],
   "source": [
    "def method2():\n",
    "    for i in range(1000):\n",
    "        a = 0\n",
    "        while a < 10:\n",
    "            current_in = sources.pop()\n",
    "            k=randint(10)\n",
    "            destination[k].append(current_in)\n",
    "            a = a + 1\n"
   ]
  },
  {
   "cell_type": "code",
   "execution_count": 13,
   "metadata": {
    "collapsed": false
   },
   "outputs": [],
   "source": [
    "# распределить (to redistribute)\n",
    "method2()"
   ]
  },
  {
   "cell_type": "code",
   "execution_count": 14,
   "metadata": {
    "collapsed": false
   },
   "outputs": [
    {
     "name": "stdout",
     "output_type": "stream",
     "text": [
      "[3, 3, 5, 5, 8, 7, 7, 8, 0, 6, 3, 1, 4, 4, 0, 8, 7, 8, 6, 9, 9, 2, 9, 8, 3, 8, 8, 5, 7, 4, 9, 0, 7, 6, 8, 5, 3, 3, 8, 4, 3, 0, 0, 1, 9, 5, 0, 3, 5, 8, 5, 5, 0, 5, 5, 5, 4, 8, 8, 4, 1, 0, 2, 0, 9, 9, 7, 6, 7, 3, 9, 1, 6, 1, 6, 5, 2, 7, 0, 5, 8, 6, 2, 1, 4, 2, 1, 2, 6, 6, 7, 2, 4, 8, 0, 5, 4, 2, 2, 7]\n"
     ]
    }
   ],
   "source": [
    "print [randint(10) for i in range(100)]"
   ]
  },
  {
   "cell_type": "code",
   "execution_count": null,
   "metadata": {
    "collapsed": false
   },
   "outputs": [],
   "source": [
    "for i in destination:\n",
    "    print i,sum(i)\n",
    "    print(\"----------------------\")"
   ]
  },
  {
   "cell_type": "code",
   "execution_count": 16,
   "metadata": {
    "collapsed": false
   },
   "outputs": [],
   "source": [
    "# for i in destination:print i"
   ]
  },
  {
   "cell_type": "code",
   "execution_count": 17,
   "metadata": {
    "collapsed": false
   },
   "outputs": [],
   "source": [
    "dist_len=destination_len(destination)"
   ]
  },
  {
   "cell_type": "code",
   "execution_count": 18,
   "metadata": {
    "collapsed": false
   },
   "outputs": [
    {
     "name": "stdout",
     "output_type": "stream",
     "text": [
      "[1013628, 1013840, 964413, 999531, 988101, 1010490, 978085, 1021575, 1018487, 983079]\n"
     ]
    }
   ],
   "source": [
    "print dist_len"
   ]
  },
  {
   "cell_type": "code",
   "execution_count": 19,
   "metadata": {
    "collapsed": false
   },
   "outputs": [
    {
     "data": {
      "text/plain": [
       "0"
      ]
     },
     "execution_count": 19,
     "metadata": {},
     "output_type": "execute_result"
    }
   ],
   "source": [
    "len(sources)"
   ]
  },
  {
   "cell_type": "code",
   "execution_count": 20,
   "metadata": {
    "collapsed": false
   },
   "outputs": [
    {
     "data": {
      "text/plain": [
       "<matplotlib.collections.LineCollection at 0x1bb9a198>"
      ]
     },
     "execution_count": 20,
     "metadata": {},
     "output_type": "execute_result"
    },
    {
     "data": {
      "image/png": "[encoded data removed]",
      "text/plain": [
       "<matplotlib.figure.Figure at 0x1b9430b8>"
      ]
     },
     "metadata": {},
     "output_type": "display_data"
    }
   ],
   "source": [
    "plt.vlines(range(10),[0],dist_len)"
   ]
  },
  {
   "cell_type": "code",
   "execution_count": null,
   "metadata": {
    "collapsed": false
   },
   "outputs": [],
   "source": []
  }
 ],
 "metadata": {
  "kernelspec": {
   "display_name": "Python 2",
   "language": "python",
   "name": "python2"
  },
  "language_info": {
   "codemirror_mode": {
    "name": "ipython",
    "version": 2
   },
   "file_extension": ".py",
   "mimetype": "text/x-python",
   "name": "python",
   "nbconvert_exporter": "python",
   "pygments_lexer": "ipython2",
   "version": "2.7.11"
  }
 },
 "nbformat": 4,
 "nbformat_minor": 0
}
