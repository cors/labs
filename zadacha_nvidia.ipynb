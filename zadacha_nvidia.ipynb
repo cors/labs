{
 "cells": [
  {
   "cell_type": "code",
   "execution_count": 2,
   "metadata": {
    "collapsed": true
   },
   "outputs": [],
   "source": [
    "import os"
   ]
  },
  {
   "cell_type": "code",
   "execution_count": 2,
   "metadata": {
    "collapsed": false
   },
   "outputs": [],
   "source": [
    "input_text = \"abbcabcbababbcc\""
   ]
  },
  {
   "cell_type": "code",
   "execution_count": 8,
   "metadata": {
    "collapsed": false
   },
   "outputs": [
    {
     "name": "stdout",
     "output_type": "stream",
     "text": [
      "abbcabcbababbcc\n",
      "bbcabcbababbcc\n",
      "bcabcbababbcc\n",
      "cabcbababbcc\n",
      "abcbababbcc\n",
      "bcbababbcc\n",
      "cbababbcc\n",
      "bababbcc\n",
      "ababbcc\n",
      "babbcc\n",
      "abbcc\n",
      "bbcc\n",
      "bcc\n",
      "cc\n",
      "c\n"
     ]
    }
   ],
   "source": [
    "unic = []\n",
    "output_text=[[''] for x in range(10)] \n",
    "n=0\n",
    "\n",
    "a=0\n",
    "\n",
    "while a < len(input_text):\n",
    "    input_text_in = input_text[a:]\n",
    "    \n",
    "    print input_text_in\n",
    "    \n",
    "    for i in input_text[a]:\n",
    "\n",
    "        unic.append(str(i))\n",
    "\n",
    "        if i in unic and len(unic) < 2:\n",
    "\n",
    "            output_text.append(i)\n",
    "        else:\n",
    "            n = n + 1\n",
    "    a = a + 1         "
   ]
  },
  {
   "cell_type": "code",
   "execution_count": 9,
   "metadata": {
    "collapsed": false
   },
   "outputs": [
    {
     "name": "stdout",
     "output_type": "stream",
     "text": [
      "[[''], [''], [''], [''], [''], [''], [''], [''], [''], [''], 'a']\n"
     ]
    }
   ],
   "source": [
    "print output_text"
   ]
  },
  {
   "cell_type": "code",
   "execution_count": null,
   "metadata": {
    "collapsed": true
   },
   "outputs": [],
   "source": [
    "print output_text"
   ]
  }
 ],
 "metadata": {
  "kernelspec": {
   "display_name": "Python 2",
   "language": "python",
   "name": "python2"
  },
  "language_info": {
   "codemirror_mode": {
    "name": "ipython",
    "version": 2
   },
   "file_extension": ".py",
   "mimetype": "text/x-python",
   "name": "python",
   "nbconvert_exporter": "python",
   "pygments_lexer": "ipython2",
   "version": "2.7.11"
  }
 },
 "nbformat": 4,
 "nbformat_minor": 0
}
